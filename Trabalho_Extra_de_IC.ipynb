{
  "nbformat": 4,
  "nbformat_minor": 0,
  "metadata": {
    "colab": {
      "name": "Trabalho Extra de IC",
      "provenance": [],
      "private_outputs": true,
      "collapsed_sections": [],
      "include_colab_link": true
    },
    "kernelspec": {
      "display_name": "Python 3",
      "name": "python3"
    }
  },
  "cells": [
    {
      "cell_type": "markdown",
      "metadata": {
        "id": "view-in-github",
        "colab_type": "text"
      },
      "source": [
        "<a href=\"https://colab.research.google.com/github/lucgbrl/Foundation/blob/master/Trabalho_Extra_de_IC.ipynb\" target=\"_parent\"><img src=\"https://colab.research.google.com/assets/colab-badge.svg\" alt=\"Open In Colab\"/></a>"
      ]
    },
    {
      "cell_type": "markdown",
      "metadata": {
        "colab_type": "text",
        "id": "rX8mhOLljYeM"
      },
      "source": [
        "##### Copyright 2019 The TensorFlow Authors."
      ]
    },
    {
      "cell_type": "markdown",
      "metadata": {
        "colab_type": "text",
        "id": "3wF5wszaj97Y"
      },
      "source": [
        "# Trabalho Extra de IC com TensorFlow - 356726\n",
        "\n",
        "Universidade Federal do Ceará - Campus Sobral\n",
        "Lucas Gabriel Guilherme dos Santos - 356726\n",
        "Engenharia da Computação\n",
        "Disciplina: Inteligência Computacional\n",
        "Prof. Jarbas Joaci\n",
        "\n",
        "Trabalho Extra - Entrega até 11/12/2019\n",
        "Semestre: 2019.2\n",
        "\n"
      ]
    },
    {
      "cell_type": "markdown",
      "metadata": {
        "colab_type": "text",
        "id": "04QgGZc9bF5D"
      },
      "source": [
        "Este documento utiliza [Keras](https://www.tensorflow.org/guide/keras/overview) para:\n",
        "\n",
        "1. Construir uma rede neural para classificar imagens.\n",
        "2. Treinar esta rede neural.\n",
        "3. Avaliar a acurácia do modelo."
      ]
    },
    {
      "cell_type": "markdown",
      "metadata": {
        "colab_type": "text",
        "id": "hiH7AC-NTniF"
      },
      "source": [
        "1 Introdução \n",
        "\n",
        "Este é um caderno do [Google Colaboratory](https://colab.research.google.com/notebooks/welcome.ipynb). Por meio dele pode-se executar programas em Python diretamente no servidor, sendo esta uma ótima forma de aprender a utilizar  TensorFlow. "
      ]
    },
    {
      "cell_type": "markdown",
      "metadata": {
        "colab_type": "text",
        "id": "nnrWf3PCEzXL"
      },
      "source": [
        "As importações serão realizadas no bloco de código abaixo. Por meio da biblioteca TensorFlow e Keras serão gerados os modelos de rede neural convolucional. Será empregada a biblioteca Matplotlib para exibição dos valores numéricos e a biblioteca numpy para operações matemáticas auxiliares.\n",
        "\n",
        "Também é importado o sistema de arquivos do Google Drive, onde foi realizado o envio do conjunto de dados de imagens, disponibilizado na url [datasets de IC](https://www.dropbox.com/s/n1elpgp4xxagbrv/mnist.rar?dl=0).\n",
        "\n",
        "Para acessar arquivos no Google Drive a partir do Google Colab é necessário gerar um token de identificação, normalmente após a primeira execução é exibido um link de acesso para o Drive, onde é solicitado a permissão do proprietário.\n",
        "\n",
        "O Token gerado para a pasta MNIST foi: 4/uAHrA5VaxjyK5wl-dwQ5BjfL3qBR5inzX0l2Ux18kvmlkdVU585ae5o"
      ]
    },
    {
      "cell_type": "code",
      "metadata": {
        "colab_type": "code",
        "id": "0trJmd6DjqBZ",
        "colab": {}
      },
      "source": [
        "from __future__ import absolute_import, division, print_function, unicode_literals\n",
        "import numpy as np\n",
        "import os \n",
        "import cv2\n",
        "from google.colab import drive\n",
        "from google.colab import files \n",
        "import matplotlib.pyplot as plt\n",
        "\n",
        "# Lucas Gabriel - 356726\n",
        "# Engenharia da Computação - UFC Sobral\n",
        "# montando o sistema de arquivos no Google Drive\n",
        "\n",
        "# A variável image_path é global, bem como a variável image_data\n",
        "\n",
        "drive.mount('/content/drive')\n",
        "image_path = 'drive/My Drive/mnist'\n",
        "\n",
        "def loadImages(path):\n",
        "    '''Put files into lists and return them as one list with all images \n",
        "     in the folder'''\n",
        "    image_files = sorted([os.path.join(path, 'train', file)\n",
        "                          for file in os.listdir(path + \"/train\")\n",
        "                          if file.endswith('.png')])\n",
        "    return image_files\n",
        "\n",
        "# Em seguida verificar a melhor versão do TensorFlow para o Google Colab\n",
        "\n",
        "try:\n",
        "  # % A versão 2.0 e 2.x+ só existem no Google Colab, as mesmas não podem ser obtidas para execução local.\n",
        "  %tensorflow_version 2.x\n",
        "except Exception:\n",
        "  pass\n",
        "\n",
        "import tensorflow as tf"
      ],
      "execution_count": 0,
      "outputs": []
    },
    {
      "cell_type": "markdown",
      "metadata": {
        "id": "c7Q6BUA5-uwT",
        "colab_type": "text"
      },
      "source": [
        "As funções definidas abaixo (display e display_one) são responsáveis por exibir imagens obtidas a partir do banco de testes. O banco encontra-se numa pasta chamada MNIST no Google Drive, dentro de uma subpasta chamada test. \n",
        "\n",
        "A primeira função recebe como parâmetro duas imagens e dois títulos, definidos previamente. A segunda função recebe somente uma imagem como parâmetro e retorna a visualização desta e o títurlo pré definido.\n"
      ]
    },
    {
      "cell_type": "code",
      "metadata": {
        "id": "MFVmTa7axBep",
        "colab_type": "code",
        "colab": {}
      },
      "source": [
        "# Exibe duas imagens e seus títulos, lado a lado\n",
        "def display(a, b, title1 = \"mnist_100\", title2 = \"mnist_5\"):\n",
        "    plt.subplot(121), plt.imshow(a), plt.title(title1)\n",
        "    plt.xticks([]), plt.yticks([])\n",
        "    plt.subplot(122), plt.imshow(b), plt.title(title2)\n",
        "    plt.xticks([]), plt.yticks([])\n",
        "    plt.show()\n",
        "\n",
        "# Exibe uma imagem e seu títurlo\n",
        "def display_one(a, title1 = \"Carregando uma imagem do banco do DropBox\"):\n",
        "    plt.imshow(a), plt.title(title1)\n",
        "    plt.show()\n"
      ],
      "execution_count": 0,
      "outputs": []
    },
    {
      "cell_type": "markdown",
      "metadata": {
        "colab_type": "text",
        "id": "7NAbSZiaoJ4z"
      },
      "source": [
        "A função abaixo realiza o pré processamento das imagens no banco fornecido no Dropbox, realizando o redimensionamento de 30 x 30 pixels para 28 x 28 pixels. O procedimento utiliza uma função da biblioteca OpenCV na versão 2.\n",
        "\n",
        "\n",
        "Load and prepare the [MNIST dataset](http://yann.lecun.com/exdb/mnist/). Convert the samples from integers to floating-point numbers:"
      ]
    },
    {
      "cell_type": "code",
      "metadata": {
        "id": "TzEx_TWF0UAk",
        "colab_type": "code",
        "colab": {}
      },
      "source": [
        "#lê imagens entre 0 e o tamanho da lista passada em Data \n",
        "\n",
        "def preprocess(data):\n",
        "  lim = len(data)\n",
        "  # a linha a seguir lê as imagens no diretório de trabalho definido em image_path, localizada no Google Drive\n",
        "  img = [cv2.imread(i, cv2.IMREAD_UNCHANGED) for i in data[:lim]]\n",
        "  #img = [cv2.imread(data, cv2.IMREAD_UNCHANGED)]\n",
        "  \n",
        "  try:\n",
        "    print('Imagem em dimensões originais:', img.shape)\n",
        "  except AttributeError:\n",
        "    print('Dimensões não processadas')\n",
        "  \n",
        "  # A partir daqui serão definidas as novas dimensões\n",
        "  altura, largura = 28, 28\n",
        "  dim = (altura, largura)\n",
        "  res_image = []\n",
        "  for i in range(len(img)):\n",
        "    res = cv2.resize(img[i], dim, interpolation=cv2.INTER_LINEAR)\n",
        "    res_image.append(res)\n",
        "\n",
        "  #checando se o redimensionamento ocorreu com sucesso\n",
        "\n",
        "  try:\n",
        "    print('Redimensionando a imagem 1', res_image[0].shape)\n",
        "  except AttributeError:\n",
        "    print('Dimensões não encontradas')\n",
        "\n",
        "  original = res_image[0]\n",
        "  display_one(original)\n",
        "\n",
        "#fim da implementação da função\n",
        "\n"
      ],
      "execution_count": 0,
      "outputs": []
    },
    {
      "cell_type": "code",
      "metadata": {
        "colab_type": "code",
        "id": "7FP5258xjs-v",
        "colab": {}
      },
      "source": [
        "mnist = tf.keras.datasets.mnist\n",
        "\n",
        "(x_train, y_train), (x_test, y_test) = mnist.load_data()\n",
        "x_train, x_test = x_train / 255.0, x_test / 255.0\n",
        "\n",
        "\"\"\"\n",
        "train data -> mnist.test_data()\n",
        "#test data -> dropbox.data()\n",
        "#labels = y_test \n",
        "\"\"\"\n"
      ],
      "execution_count": 0,
      "outputs": []
    },
    {
      "cell_type": "code",
      "metadata": {
        "id": "eDaBORzOjtjE",
        "colab_type": "code",
        "colab": {}
      },
      "source": [
        "print(\"#----------------------------------\")\n",
        "print('Imagens a partir do banco de testes do MNIST')\n",
        "display(x_test[1], x_test[2])\n",
        "\n",
        "print(\"#----------------------------------\")\n",
        "print('Imagem a partir do banco de teste do DROPBOX')\n",
        "imagens = loadImages(image_path)\n",
        "preprocess(imagens)\n"
      ],
      "execution_count": 0,
      "outputs": []
    },
    {
      "cell_type": "markdown",
      "metadata": {
        "id": "p_CvN3g10LJB",
        "colab_type": "text"
      },
      "source": [
        "A seguir será definida uma função para realizar o tratamento das imagens de amostra, carregadas na lista retornada pela função loadImages:"
      ]
    },
    {
      "cell_type": "markdown",
      "metadata": {
        "colab_type": "text",
        "id": "BPZ68wASog_I"
      },
      "source": [
        "Build the `tf.keras.Sequential` model by stacking layers. Choose an optimizer and loss function for training:"
      ]
    },
    {
      "cell_type": "code",
      "metadata": {
        "colab_type": "code",
        "id": "h3IKyzTCDNGo",
        "colab": {}
      },
      "source": [
        "model = tf.keras.models.Sequential([\n",
        "  tf.keras.layers.Flatten(input_shape=(28, 28)),\n",
        "  tf.keras.layers.Dense(128, activation='relu'),\n",
        "  tf.keras.layers.Dropout(0.2),\n",
        "  tf.keras.layers.Dense(10, activation='softmax')\n",
        "])\n",
        "\n",
        "model.compile(optimizer='adam',\n",
        "              loss='sparse_categorical_crossentropy',\n",
        "              metrics=['accuracy'])"
      ],
      "execution_count": 0,
      "outputs": []
    },
    {
      "cell_type": "markdown",
      "metadata": {
        "colab_type": "text",
        "id": "ix4mEL65on-w"
      },
      "source": [
        "Train and evaluate the model:"
      ]
    },
    {
      "cell_type": "code",
      "metadata": {
        "colab_type": "code",
        "id": "F7dTAzgHDUh7",
        "colab": {}
      },
      "source": [
        "#utilizando o conjunto de 10k\n",
        "\n",
        "model.fit(x_test, y_test, epochs=5)\n",
        "model.evaluate(x_test,  y_test, verbose=2)\n",
        "\n",
        "\"\"\"\n",
        "Utilizando o conjunto de 60k\n",
        "model.fit(x_train, y_train, epochs=5)\n",
        "\n",
        "model.evaluate(x_test,  y_test, verbose=2)\n",
        "\"\"\""
      ],
      "execution_count": 0,
      "outputs": []
    },
    {
      "cell_type": "markdown",
      "metadata": {
        "colab_type": "text",
        "id": "T4JfEh7kvx6m"
      },
      "source": [
        "The image classifier is now trained to ~98% accuracy on this dataset. To learn more, read the [TensorFlow tutorials](https://www.tensorflow.org/tutorials/)."
      ]
    },
    {
      "cell_type": "code",
      "metadata": {
        "id": "k9UmJGTFl-qA",
        "colab_type": "code",
        "colab": {}
      },
      "source": [
        "#calcular perca e precisão do modelo\n",
        "\n",
        "\n",
        "var_loss, var_accuracy = model.evaluate(x_test, y_test)\n",
        "print(var_loss, var_accuracy)"
      ],
      "execution_count": 0,
      "outputs": []
    },
    {
      "cell_type": "markdown",
      "metadata": {
        "id": "6WPbQoAYm7x0",
        "colab_type": "text"
      },
      "source": [
        "O modelo treinado acima é então salvo para que possa ser empregado futuramente em novas implementações"
      ]
    },
    {
      "cell_type": "code",
      "metadata": {
        "id": "UIEZpHZemulK",
        "colab_type": "code",
        "colab": {}
      },
      "source": [
        "#save a model \n",
        "\n",
        "model.save('356726.model')"
      ],
      "execution_count": 0,
      "outputs": []
    },
    {
      "cell_type": "code",
      "metadata": {
        "id": "6pzzRpVinCLV",
        "colab_type": "code",
        "colab": {}
      },
      "source": [
        "novo_modelo = tf.keras.models.load_model('356726.model')\n",
        "predicoes = novo_modelo.predict([x_test])\n",
        "\n",
        "print(predicoes[100])"
      ],
      "execution_count": 0,
      "outputs": []
    },
    {
      "cell_type": "markdown",
      "metadata": {
        "id": "k1pm-bw5nTRj",
        "colab_type": "text"
      },
      "source": [
        "Utilizando numpy para "
      ]
    },
    {
      "cell_type": "code",
      "metadata": {
        "id": "p4brYO3dnWGa",
        "colab_type": "code",
        "colab": {}
      },
      "source": [
        "# este dado vem a partir do mnist.test (base com 10k imagens de dígitos)\n",
        "# como o banco de 10k foi utilizado para o treino é necessário utilizar outro banco\n",
        "# para validação, no caso o dropbox \n",
        "\n",
        "print(np.argmax(predicoes[1]))\n",
        "plt.imshow(x_test[1])\n",
        "plt.show()\n",
        "\n",
        "images = loadImages(image_path)\n",
        "print(images[1])\n",
        "preprocess(images[1])\n",
        "\n"
      ],
      "execution_count": 0,
      "outputs": []
    },
    {
      "cell_type": "markdown",
      "metadata": {
        "id": "hHQEz-sNE0s5",
        "colab_type": "text"
      },
      "source": [
        "Algumas funções auxiliares foram obtidas a partir do tutorial disponível em:\n",
        "\n",
        "https://colab.research.google.com/drive/1b8pVMMoR37a3b9ICo8TMqMLVD-WvbzTk#scrollTo=3E94MjxkR_hI\n",
        "\n",
        "Outras informações relevantes foram obtidos a partir do Stack Overflow:\n",
        "\n",
        "https://stackoverflow.com/questions/48257255/how-to-import-pre-downloaded-mnist-dataset-from-a-specific-directory-or-folder"
      ]
    },
    {
      "cell_type": "code",
      "metadata": {
        "id": "iNZjpM_mE0Yb",
        "colab_type": "code",
        "colab": {}
      },
      "source": [
        ""
      ],
      "execution_count": 0,
      "outputs": []
    }
  ]
}